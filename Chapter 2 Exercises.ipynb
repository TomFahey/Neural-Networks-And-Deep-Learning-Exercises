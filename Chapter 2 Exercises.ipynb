{
 "cells": [
  {
   "cell_type": "markdown",
   "metadata": {},
   "source": [
    "<h1> Chapter 2: How the backpropagation algorithm works </h1>"
   ]
  },
  {
   "cell_type": "markdown",
   "metadata": {},
   "source": [
    "**Exercises:**\n",
    "\n",
    "**Q) Backpropogration withg a single modified neuron:** *Suppose we modify a single neuron in a feedforward network so that the output from the neuron is given by $f(\\sum_jw_jx_j+b)$, where $f$ is some function other than the sigmoid. How should we modify the backpropagation algorithm in this case?*\n",
    "\n",
    "In this case, for the single neuron, $j$ at layer $l$ that has been modified, equation $\\text(B.3)$ would become,\n",
    "\n",
    "$$\n",
    "\\begin{align}\n",
    "\\tag{B.3}\n",
    "&= \\big ( \\frac{\\partial C}{\\partial a_j^{l+1}}\\frac{\\partial a_j^{l+1}}{\\partial z_j^{l+1}}\\big ) \\big ( \\frac{\\partial z_j^{l+1}}{\\partial a_j^{l}}\\frac{\\partial a_j^{l}}{\\partial z_j^{l}} \\big ) \\\\\n",
    "\\tag{B.4}\n",
    "&= \\big(\\delta_j^{l+1}\\big)\\big(\\sum_k w_j^L f^{\\prime}(z_j^{L-1})\\big)\n",
    "\\end{align}\n",
    "$$\n",
    "\n",
    "**Q) Backpropagation with linear neurons:** *Suppose we replace the usual non-linear σ function with $\\sigma(z)=z$ throughout the network. Rewrite the backpropagation algorithm for this case.*\n",
    "\n",
    "If the activation function becomes $\\sigma(z)=z$, then the backpropogation equations would become:\n",
    "\n",
    "Equation 1:\n",
    "\n",
    "$$\n",
    "\\begin{equation}\n",
    "\\delta_j^L = \\frac{\\partial C}{\\partial a_j^L}\n",
    "\\end{equation}\n",
    "$$\n",
    "\n",
    "Equation 2:\n",
    "\n",
    "$$\n",
    "\\begin{equation}\n",
    "\\vec{\\delta^l} = ((\\vec{w^{l+1})^T} \\vec{\\delta^{l+1}})\n",
    "\\end{equation}\n",
    "$$\n",
    "\n",
    "Equation 3:\n",
    "\n",
    "$$\n",
    "\\begin{equation}\n",
    "\\frac{\\partial C}{\\partial b_{j}^l} = \\delta_j^l\n",
    "\\end{equation}\n",
    "$$\n",
    "\n",
    "Equation 4:\n",
    "\n",
    "$$\n",
    "\\begin{equation}\n",
    "\\frac{\\partial C}{\\partial w_{jk}^l} = a_k^{l-1}\\delta_j^l\n",
    "\\end{equation}\n",
    "$$"
   ]
  },
  {
   "cell_type": "markdown",
   "metadata": {
    "heading_collapsed": true
   },
   "source": [
    "### Problem: Fully matrix-based approach to backpropagation over a mini-batch\n",
    "\n",
    "\"*Our implementation of stochastic gradient descent loops over training examples in a mini-batch.*\n",
    "*It's possible to modify the backpropagation algorithm so that it computes the gradients for all training examples in a mini-batch simultaneously.*\n",
    "*The idea is that instead of beginning with a single input vector, $x$, we can begin with a matrix $X=[x_1 x_2 \\dots x_m]$ whose columns are the vectors in the mini-batch.*\n",
    "*We forward-propagate by multiplying by the weight matrices, adding a suitable matrix for the bias terms, and applying the sigmoid function everywhere.*\n",
    "*We backpropagate along similar lines.*\n",
    "*Explicitly write out pseudocode for this approach to the backpropagation algorithm.*\n",
    "*Modify `network.py` so that it uses this fully matrix-based approach.*\n",
    "*The advantage of this approach is that it takes full advantage of modern libraries for linear algebra.*\n",
    "*As a result it can be quite a bit faster than looping over the mini-batch.*\n",
    "*(On my laptop, for example, the speedup is about a factor of two when run on MNIST classification problems like those we considered in the last chapter.) In practice, all serious libraries for backpropagation use this fully matrix-based approach or some variant.\"*"
   ]
  },
  {
   "cell_type": "code",
   "execution_count": 1,
   "metadata": {},
   "outputs": [
    {
     "name": "stdout",
     "output_type": "stream",
     "text": [
      "E:\\Google Drive\\Programming\\Neural networks and deep learning\\DeepLearningPython\n"
     ]
    }
   ],
   "source": [
    "cd ./DeepLearningPython"
   ]
  },
  {
   "cell_type": "code",
   "execution_count": 20,
   "metadata": {
    "hidden": true
   },
   "outputs": [],
   "source": [
    "from mnist_loader import *\n",
    "train, validate, test = load_data_wrapper()\n",
    "py3train = list(train)\n",
    "training_x = py3train[0]\n",
    "training_y = py3train[1]"
   ]
  },
  {
   "cell_type": "markdown",
   "metadata": {
    "heading_collapsed": true
   },
   "source": [
    "##### Explanation of training data:"
   ]
  },
  {
   "cell_type": "code",
   "execution_count": 21,
   "metadata": {},
   "outputs": [
    {
     "name": "stdout",
     "output_type": "stream",
     "text": [
      "[[0.]\n",
      " [0.]\n",
      " [0.]\n",
      " [1.]\n",
      " [0.]\n",
      " [0.]\n",
      " [0.]\n",
      " [0.]\n",
      " [0.]\n",
      " [0.]]\n"
     ]
    },
    {
     "data": {
      "image/png": "[encoded data removed]",
      "text/plain": [
       "<Figure size 432x288 with 1 Axes>"
      ]
     },
     "metadata": {
      "needs_background": "light"
     },
     "output_type": "display_data"
    }
   ],
   "source": [
    "from matplotlib import pyplot as plt\n",
    "\"\"\"\n",
    "Training data, train, organised into list of 50000 tuples, (X, Y), each composed of an ((784,1), (10,1)) ndarray representing the\n",
    "pixel data (28*28 = 784) of the written digit X[784] and the correct value Y[10].\n",
    "\"\"\"\n",
    "plt.imshow(py3train[7][0].reshape(28,28))\n",
    "print(py3train[7][1])"
   ]
  },
  {
   "cell_type": "code",
   "execution_count": 22,
   "metadata": {},
   "outputs": [],
   "source": [
    "mini_batch_size = 50\n",
    "minibatch = py3train[0:mini_batch_size]"
   ]
  },
  {
   "cell_type": "markdown",
   "metadata": {},
   "source": [
    "##### Explanation of network:"
   ]
  },
  {
   "cell_type": "code",
   "execution_count": 15,
   "metadata": {},
   "outputs": [
    {
     "name": "stdout",
     "output_type": "stream",
     "text": [
      "Network has shape: (Layer 0, Layer 1, Layer2):\n",
      "(784, 30, 10)\n",
      "\n",
      "\n",
      "Weights array is:\n",
      "(30, 784)\n",
      "(10, 30)\n",
      "\n",
      "\n",
      "Biases array is:\n",
      "(30, 1)\n",
      "(10, 1)\n"
     ]
    }
   ],
   "source": [
    "import network2\n",
    "\n",
    "net = network2.Network((784,30,10))\n",
    "print(\"Network has shape: (Layer 0, Layer 1, Layer2):\")\n",
    "print(net.sizes)\n",
    "print('\\n')\n",
    "print('Weights array is:')\n",
    "print(net.weights[0].shape)\n",
    "print(net.weights[1].shape)\n",
    "print('\\n')\n",
    "print('Biases array is:')\n",
    "print(net.biases[0].shape)\n",
    "print(net.biases[1].shape)"
   ]
  },
  {
   "cell_type": "markdown",
   "metadata": {
    "heading_collapsed": true,
    "hidden": true
   },
   "source": [
    "##### My initial attempt at optimization by vectorizing mini-batch processing:"
   ]
  },
  {
   "cell_type": "code",
   "execution_count": 16,
   "metadata": {
    "hidden": true
   },
   "outputs": [
    {
     "name": "stderr",
     "output_type": "stream",
     "text": [
      "E:\\Google Drive\\Programming\\Neural networks and deep learning\\networkv.py:86: VisibleDeprecationWarning: Creating an ndarray from ragged nested sequences (which is a list-or-tuple of lists-or-tuples-or ndarrays with different lengths or shapes) is deprecated. If you meant to do this, you must specify 'dtype=object' when creating the ndarray.\n",
      "  minibatch_t = np.array(minibatch).T\n",
      "E:\\Google Drive\\Programming\\Neural networks and deep learning\\networkv.py:78: VisibleDeprecationWarning: Creating an ndarray from ragged nested sequences (which is a list-or-tuple of lists-or-tuples-or ndarrays with different lengths or shapes) is deprecated. If you meant to do this, you must specify 'dtype=object' when creating the ndarray.\n",
      "  nabla_b = nabla_b + np.array([np.sum(i, axis=0) for i in delta_nabla_b])\n",
      "E:\\Google Drive\\Programming\\Neural networks and deep learning\\networkv.py:79: VisibleDeprecationWarning: Creating an ndarray from ragged nested sequences (which is a list-or-tuple of lists-or-tuples-or ndarrays with different lengths or shapes) is deprecated. If you meant to do this, you must specify 'dtype=object' when creating the ndarray.\n",
      "  nabla_w = nabla_w + np.array([np.sum(i, axis=0) for i in delta_nabla_w])\n"
     ]
    },
    {
     "name": "stdout",
     "output_type": "stream",
     "text": [
      "3.62 ms ± 46.4 µs per loop (mean ± std. dev. of 7 runs, 100 loops each)\n"
     ]
    }
   ],
   "source": [
    "import networkv\n",
    "netv = networkv.Network((784,30,10))\n",
    "%timeit netv.update_mini_batch(minibatch,3.0)"
   ]
  },
  {
   "cell_type": "markdown",
   "metadata": {
    "hidden": true
   },
   "source": [
    "versus original..."
   ]
  },
  {
   "cell_type": "code",
   "execution_count": 17,
   "metadata": {
    "hidden": true
   },
   "outputs": [],
   "source": [
    "import network"
   ]
  },
  {
   "cell_type": "code",
   "execution_count": 18,
   "metadata": {
    "hidden": true
   },
   "outputs": [
    {
     "name": "stdout",
     "output_type": "stream",
     "text": [
      "4.39 ms ± 46.3 µs per loop (mean ± std. dev. of 7 runs, 100 loops each)\n"
     ]
    }
   ],
   "source": [
    "net = network.Network((784,30,10))\n",
    "%timeit net.update_mini_batch(minibatch, 3.0)"
   ]
  },
  {
   "cell_type": "markdown",
   "metadata": {
    "heading_collapsed": true,
    "hidden": true
   },
   "source": [
    "##### Timing analysis of code..."
   ]
  },
  {
   "cell_type": "code",
   "execution_count": 19,
   "metadata": {},
   "outputs": [
    {
     "name": "stdout",
     "output_type": "stream",
     "text": [
      "3.33 ms ± 62.1 µs per loop (mean ± std. dev. of 7 runs, 100 loops each)\n",
      "5.95 ms ± 122 µs per loop (mean ± std. dev. of 7 runs, 100 loops each)\n"
     ]
    }
   ],
   "source": [
    "%timeit netv.backprop(minibatch)\n",
    "%timeit [net.backprop(i[0], i[1]) for i in minibatch]"
   ]
  },
  {
   "cell_type": "markdown",
   "metadata": {
    "hidden": true
   },
   "source": [
    "The vectorised version runs roughly 87% faster"
   ]
  }
 ],
 "metadata": {
  "kernelspec": {
   "display_name": "Python 3",
   "language": "python",
   "name": "python3"
  },
  "language_info": {
   "codemirror_mode": {
    "name": "ipython",
    "version": 3
   },
   "file_extension": ".py",
   "mimetype": "text/x-python",
   "name": "python",
   "nbconvert_exporter": "python",
   "pygments_lexer": "ipython3",
   "version": "3.8.3"
  },
  "toc": {
   "base_numbering": 1,
   "nav_menu": {},
   "number_sections": true,
   "sideBar": true,
   "skip_h1_title": false,
   "title_cell": "Table of Contents",
   "title_sidebar": "Contents",
   "toc_cell": false,
   "toc_position": {},
   "toc_section_display": true,
   "toc_window_display": true
  }
 },
 "nbformat": 4,
 "nbformat_minor": 4
}
