{
 "cells": [
  {
   "cell_type": "markdown",
   "metadata": {},
   "source": [
    "<h1> Chapter 2: How the backpropagation algorithm works </h1>"
   ]
  },
  {
   "cell_type": "markdown",
   "metadata": {},
   "source": [
    "**Exercises:**\n",
    "\n",
    "**Q) Backpropogration withg a single modified neuron:** *Suppose we modify a single neuron in a feedforward network so that the output from the neuron is given by $f(\\sum_jw_jx_j+b)$, where $f$ is some function other than the sigmoid. How should we modify the backpropagation algorithm in this case?*\n",
    "\n",
    "In this case, for the single neuron, $j$ at layer $l$ that has been modified, equation $\\text(B.3)$ would become,\n",
    "\n",
    "$$\n",
    "\\begin{align}\n",
    "\\tag{B.3}\n",
    "&= \\big ( \\frac{\\partial C}{\\partial a_j^{l+1}}\\frac{\\partial a_j^{l+1}}{\\partial z_j^{l+1}}\\big ) \\big ( \\frac{\\partial z_j^{l+1}}{\\partial a_j^{l}}\\frac{\\partial a_j^{l}}{\\partial z_j^{l}} \\big ) \\\\\n",
    "\\tag{B.4}\n",
    "&= \\big(\\delta_j^{l+1}\\big)\\big(\\sum_k w_j^L f^{\\prime}(z_j^{L-1})\\big)\n",
    "\\end{align}\n",
    "$$\n",
    "\n",
    "**Q) Backpropagation with linear neurons:** *Suppose we replace the usual non-linear σ function with $\\sigma(z)=z$ throughout the network. Rewrite the backpropagation algorithm for this case.*\n",
    "\n",
    "If the activation function becomes $\\sigma(z)=z$, then the backpropogation equations would become:\n",
    "\n",
    "Equation 1:\n",
    "\n",
    "$$\n",
    "\\begin{equation}\n",
    "\\delta_j^L = \\frac{\\partial C}{\\partial a_j^L}\n",
    "\\end{equation}\n",
    "$$\n",
    "\n",
    "Equation 2:\n",
    "\n",
    "$$\n",
    "\\begin{equation}\n",
    "\\vec{\\delta^l} = ((\\vec{w^{l+1})^T} \\vec{\\delta^{l+1}})\n",
    "\\end{equation}\n",
    "$$\n",
    "\n",
    "Equation 3:\n",
    "\n",
    "$$\n",
    "\\begin{equation}\n",
    "\\frac{\\partial C}{\\partial b_{j}^l} = \\delta_j^l\n",
    "\\end{equation}\n",
    "$$\n",
    "\n",
    "Equation 4:\n",
    "\n",
    "$$\n",
    "\\begin{equation}\n",
    "\\frac{\\partial C}{\\partial w_{jk}^l} = a_k^{l-1}\\delta_j^l\n",
    "\\end{equation}\n",
    "$$"
   ]
  },
  {
   "cell_type": "markdown",
   "metadata": {
    "heading_collapsed": true
   },
   "source": [
    "### Problem: Fully matrix-based approach to backpropagation over a mini-batch"
   ]
  },
  {
   "cell_type": "code",
   "execution_count": 1,
   "metadata": {
    "hidden": true
   },
   "outputs": [],
   "source": [
    "from mnist_loader import *\n",
    "train, validate, test = load_data_wrapper()\n",
    "training_x = train[0]\n",
    "training_y = train[1]"
   ]
  },
  {
   "cell_type": "markdown",
   "metadata": {
    "heading_collapsed": true
   },
   "source": [
    "##### Explanation of training data:"
   ]
  },
  {
   "cell_type": "code",
   "execution_count": 2,
   "metadata": {},
   "outputs": [
    {
     "name": "stdout",
     "output_type": "stream",
     "text": [
      "[[0.]\n",
      " [0.]\n",
      " [0.]\n",
      " [1.]\n",
      " [0.]\n",
      " [0.]\n",
      " [0.]\n",
      " [0.]\n",
      " [0.]\n",
      " [0.]]\n"
     ]
    },
    {
     "data": {
      "image/png": "[encoded data removed]",
      "text/plain": [
       "<Figure size 432x288 with 1 Axes>"
      ]
     },
     "metadata": {
      "needs_background": "light"
     },
     "output_type": "display_data"
    }
   ],
   "source": [
    "from matplotlib import pyplot as plt\n",
    "\"\"\"\n",
    "Training data, train, organised into list of 50000 tuples, (X, Y), each composed of an ((784,1), (10,1)) ndarray representing the\n",
    "pixel data (28*28 = 784) of the written digit X[784] and the correct value Y[10].\n",
    "\"\"\"\n",
    "plt.imshow(train[7][0].reshape(28,28))\n",
    "print(train[7][1])"
   ]
  },
  {
   "cell_type": "code",
   "execution_count": 3,
   "metadata": {},
   "outputs": [],
   "source": [
    "mini_batch_size = 50\n",
    "minibatch = train[0:mini_batch_size]"
   ]
  },
  {
   "cell_type": "markdown",
   "metadata": {},
   "source": [
    "##### Explanation of network:"
   ]
  },
  {
   "cell_type": "code",
   "execution_count": 4,
   "metadata": {},
   "outputs": [
    {
     "name": "stdout",
     "output_type": "stream",
     "text": [
      "Network has shape: (Layer 0, Layer 1, Layer2):\n"
     ]
    },
    {
     "ename": "NameError",
     "evalue": "name 'net' is not defined",
     "output_type": "error",
     "traceback": [
      "\u001b[1;31m---------------------------------------------------------------------------\u001b[0m",
      "\u001b[1;31mNameError\u001b[0m                                 Traceback (most recent call last)",
      "\u001b[1;32m<ipython-input-4-7229c564718e>\u001b[0m in \u001b[0;36m<module>\u001b[1;34m\u001b[0m\n\u001b[0;32m      1\u001b[0m \u001b[0mprint\u001b[0m\u001b[1;33m(\u001b[0m\u001b[1;34m\"Network has shape: (Layer 0, Layer 1, Layer2):\"\u001b[0m\u001b[1;33m)\u001b[0m\u001b[1;33m\u001b[0m\u001b[1;33m\u001b[0m\u001b[0m\n\u001b[1;32m----> 2\u001b[1;33m \u001b[0mprint\u001b[0m\u001b[1;33m(\u001b[0m\u001b[0mnet\u001b[0m\u001b[1;33m.\u001b[0m\u001b[0msizes\u001b[0m\u001b[1;33m)\u001b[0m\u001b[1;33m\u001b[0m\u001b[1;33m\u001b[0m\u001b[0m\n\u001b[0m\u001b[0;32m      3\u001b[0m \u001b[0mprint\u001b[0m\u001b[1;33m(\u001b[0m\u001b[1;34m'\\n'\u001b[0m\u001b[1;33m)\u001b[0m\u001b[1;33m\u001b[0m\u001b[1;33m\u001b[0m\u001b[0m\n\u001b[0;32m      4\u001b[0m \u001b[0mprint\u001b[0m\u001b[1;33m(\u001b[0m\u001b[1;34m'Weights array is:'\u001b[0m\u001b[1;33m)\u001b[0m\u001b[1;33m\u001b[0m\u001b[1;33m\u001b[0m\u001b[0m\n\u001b[0;32m      5\u001b[0m \u001b[0mprint\u001b[0m\u001b[1;33m(\u001b[0m\u001b[0mnet\u001b[0m\u001b[1;33m.\u001b[0m\u001b[0mweights\u001b[0m\u001b[1;33m[\u001b[0m\u001b[1;36m0\u001b[0m\u001b[1;33m]\u001b[0m\u001b[1;33m.\u001b[0m\u001b[0mshape\u001b[0m\u001b[1;33m)\u001b[0m\u001b[1;33m\u001b[0m\u001b[1;33m\u001b[0m\u001b[0m\n",
      "\u001b[1;31mNameError\u001b[0m: name 'net' is not defined"
     ]
    }
   ],
   "source": [
    "print(\"Network has shape: (Layer 0, Layer 1, Layer2):\")\n",
    "print(net.sizes)\n",
    "print('\\n')\n",
    "print('Weights array is:')\n",
    "print(net.weights[0].shape)\n",
    "print(net.weights[1].shape)\n",
    "print('\\n')\n",
    "print('Biases array is:')\n",
    "print(net.biases[0].shape)\n",
    "print(net.biases[1].shape)"
   ]
  },
  {
   "cell_type": "markdown",
   "metadata": {
    "heading_collapsed": true,
    "hidden": true
   },
   "source": [
    "##### My initial attempt at optimization by vectorizing mini-batch processing:"
   ]
  },
  {
   "cell_type": "code",
   "execution_count": 7,
   "metadata": {
    "hidden": true
   },
   "outputs": [
    {
     "name": "stdout",
     "output_type": "stream",
     "text": [
      "5.74 ms ± 94.3 µs per loop (mean ± std. dev. of 7 runs, 100 loops each)\n"
     ]
    }
   ],
   "source": [
    "import networkv\n",
    "netv = networkv.Network((784,30,10))\n",
    "%timeit netv.update_mini_batch(minibatch,3.0)"
   ]
  },
  {
   "cell_type": "markdown",
   "metadata": {
    "hidden": true
   },
   "source": [
    "versus original..."
   ]
  },
  {
   "cell_type": "code",
   "execution_count": 8,
   "metadata": {
    "hidden": true
   },
   "outputs": [],
   "source": [
    "import network"
   ]
  },
  {
   "cell_type": "code",
   "execution_count": 9,
   "metadata": {
    "hidden": true
   },
   "outputs": [
    {
     "name": "stdout",
     "output_type": "stream",
     "text": [
      "4.14 ms ± 64.9 µs per loop (mean ± std. dev. of 7 runs, 100 loops each)\n"
     ]
    }
   ],
   "source": [
    "net = network.Network((784,30,10))\n",
    "%timeit net.update_mini_batch(minibatch, 3.0)"
   ]
  },
  {
   "cell_type": "markdown",
   "metadata": {
    "heading_collapsed": true,
    "hidden": true
   },
   "source": [
    "##### Timing analysis of code..."
   ]
  },
  {
   "cell_type": "code",
   "execution_count": 16,
   "metadata": {},
   "outputs": [
    {
     "name": "stdout",
     "output_type": "stream",
     "text": [
      "4.76 ms ± 115 µs per loop (mean ± std. dev. of 7 runs, 100 loops each)\n",
      "6.88 ms ± 229 µs per loop (mean ± std. dev. of 7 runs, 100 loops each)\n"
     ]
    }
   ],
   "source": [
    "%timeit netv.backprop(minibatch)\n",
    "%timeit [net.backprop(i[0], i[1]) for i in minibatch]"
   ]
  },
  {
   "cell_type": "markdown",
   "metadata": {
    "hidden": true
   },
   "source": [
    "The vectorised version runs roughly 87% faster"
   ]
  },
  {
   "cell_type": "code",
   "execution_count": null,
   "metadata": {},
   "outputs": [],
   "source": []
  }
 ],
 "metadata": {
  "kernelspec": {
   "display_name": "Python 3",
   "language": "python",
   "name": "python3"
  },
  "language_info": {
   "codemirror_mode": {
    "name": "ipython",
    "version": 3
   },
   "file_extension": ".py",
   "mimetype": "text/x-python",
   "name": "python",
   "nbconvert_exporter": "python",
   "pygments_lexer": "ipython3",
   "version": "3.8.3"
  },
  "toc": {
   "base_numbering": 1,
   "nav_menu": {},
   "number_sections": true,
   "sideBar": true,
   "skip_h1_title": false,
   "title_cell": "Table of Contents",
   "title_sidebar": "Contents",
   "toc_cell": false,
   "toc_position": {},
   "toc_section_display": true,
   "toc_window_display": true
  }
 },
 "nbformat": 4,
 "nbformat_minor": 4
}
